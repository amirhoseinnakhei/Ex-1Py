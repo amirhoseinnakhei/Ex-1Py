{
 "cells": [
  {
   "cell_type": "code",
   "execution_count": 5,
   "id": "4730738c-f1fa-4618-90b8-4abf5b0f87d6",
   "metadata": {},
   "outputs": [],
   "source": [
    "# (AmirHossein Nakhei) Tamrin"
   ]
  },
  {
   "cell_type": "code",
   "execution_count": 1,
   "id": "0c189976-f2a6-4beb-a94c-11e8a8f7d397",
   "metadata": {},
   "outputs": [],
   "source": [
    "a,b = 3 , \"amin\""
   ]
  },
  {
   "cell_type": "code",
   "execution_count": 3,
   "id": "c83e88de-414f-4172-a60b-98cc21b9dd88",
   "metadata": {},
   "outputs": [
    {
     "name": "stdout",
     "output_type": "stream",
     "text": [
      "3 amin\n"
     ]
    }
   ],
   "source": [
    "print (a,b)"
   ]
  },
  {
   "cell_type": "code",
   "execution_count": 4,
   "id": "b507c80e-7477-4bc6-aeaa-6680be833127",
   "metadata": {},
   "outputs": [],
   "source": [
    "d,c = 3.5 , 2"
   ]
  },
  {
   "cell_type": "code",
   "execution_count": 5,
   "id": "baea9a06-ee1d-49f8-afc8-e8f49c0d1b71",
   "metadata": {},
   "outputs": [
    {
     "name": "stdout",
     "output_type": "stream",
     "text": [
      "3.5 2\n"
     ]
    }
   ],
   "source": [
    "print(d,c)"
   ]
  },
  {
   "cell_type": "code",
   "execution_count": 7,
   "id": "b736d3b3-77de-46ab-b038-844f42799f86",
   "metadata": {},
   "outputs": [],
   "source": [
    "e , f , g , h = 8 , 6 , 12 , 2"
   ]
  },
  {
   "cell_type": "code",
   "execution_count": 8,
   "id": "2ddba7b9-0a91-437b-9cca-297fc9c4b369",
   "metadata": {},
   "outputs": [
    {
     "name": "stdout",
     "output_type": "stream",
     "text": [
      "1174.0\n"
     ]
    }
   ],
   "source": [
    "print ((e+f)**2*(g/h)-2)"
   ]
  },
  {
   "cell_type": "code",
   "execution_count": 9,
   "id": "c71c41c2-42cd-4d04-81de-21c0ad0943f3",
   "metadata": {},
   "outputs": [
    {
     "data": {
      "text/plain": [
       "1"
      ]
     },
     "execution_count": 9,
     "metadata": {},
     "output_type": "execute_result"
    }
   ],
   "source": [
    "2 and 1"
   ]
  },
  {
   "cell_type": "code",
   "execution_count": 10,
   "id": "752a1970-87ae-4bf3-a411-9f29c31a3060",
   "metadata": {},
   "outputs": [
    {
     "data": {
      "text/plain": [
       "2"
      ]
     },
     "execution_count": 10,
     "metadata": {},
     "output_type": "execute_result"
    }
   ],
   "source": [
    "2 or 1"
   ]
  },
  {
   "cell_type": "code",
   "execution_count": 11,
   "id": "0e17c3c5-8fc1-4bfa-99da-85bbb51f523e",
   "metadata": {},
   "outputs": [
    {
     "data": {
      "text/plain": [
       "'amin'"
      ]
     },
     "execution_count": 11,
     "metadata": {},
     "output_type": "execute_result"
    }
   ],
   "source": [
    "\"amin\" or 2"
   ]
  },
  {
   "cell_type": "code",
   "execution_count": 12,
   "id": "e1814bf1-2872-48e9-876a-e2e4f4fd500f",
   "metadata": {},
   "outputs": [
    {
     "data": {
      "text/plain": [
       "True"
      ]
     },
     "execution_count": 12,
     "metadata": {},
     "output_type": "execute_result"
    }
   ],
   "source": [
    "True or False"
   ]
  },
  {
   "cell_type": "code",
   "execution_count": 13,
   "id": "ff46ae9b-da6b-4e8e-a067-ee1a6b11475c",
   "metadata": {},
   "outputs": [
    {
     "data": {
      "text/plain": [
       "'stv'"
      ]
     },
     "execution_count": 13,
     "metadata": {},
     "output_type": "execute_result"
    }
   ],
   "source": [
    "\"milad\" and \"stv\""
   ]
  },
  {
   "cell_type": "code",
   "execution_count": null,
   "id": "3137c559-53bb-4160-83fa-4dfdf9be109d",
   "metadata": {},
   "outputs": [],
   "source": []
  }
 ],
 "metadata": {
  "kernelspec": {
   "display_name": "Python 3 (ipykernel)",
   "language": "python",
   "name": "python3"
  },
  "language_info": {
   "codemirror_mode": {
    "name": "ipython",
    "version": 3
   },
   "file_extension": ".py",
   "mimetype": "text/x-python",
   "name": "python",
   "nbconvert_exporter": "python",
   "pygments_lexer": "ipython3",
   "version": "3.12.2"
  }
 },
 "nbformat": 4,
 "nbformat_minor": 5
}
