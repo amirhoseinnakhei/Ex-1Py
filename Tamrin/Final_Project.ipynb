{
 "cells": [
  {
   "cell_type": "code",
   "execution_count": 13,
   "id": "078b7417-1726-4356-b56f-15448ced2afa",
   "metadata": {},
   "outputs": [
    {
     "name": "stdin",
     "output_type": "stream",
     "text": [
      "Zarib X ra vared konid :  1\n",
      "Zarib B ra vared konid :  3\n",
      "Zarib C ra vared konid :  -2\n"
     ]
    },
    {
     "name": "stdout",
     "output_type": "stream",
     "text": [
      "\n",
      "Rishe ha : (0.5615528128088303, -3.5615528128088303)\n"
     ]
    }
   ],
   "source": [
    "def moadele(a, b, c):\n",
    "  \n",
    "    delta = b**2 - 4*a*c\n",
    "    \n",
    "    if delta > 0:\n",
    "        # دو ریشه حقیقی\n",
    "        r1 = (-b + (delta**0.5)) / (2*a)\n",
    "        r2 = (-b - (delta**0.5)) / (2*a)\n",
    "        return r1 , r2\n",
    "        \n",
    "    elif delta == 0:\n",
    "        # یک ریشه مضاعف\n",
    "        root = -b / (2*a)\n",
    "        return root , root\n",
    "        \n",
    "    else:\n",
    "        print(\"Rishe Mozaaf Nadarad\")\n",
    "\n",
    "print(\"ax^2 + bx + c = 0\")\n",
    "\n",
    "a = int(input(\" A ra vared konid : \"))\n",
    "b = int(input(\" B ra vared konid : \"))\n",
    "c = int(input(\" C ra vared konid : \"))\n",
    "print(\"\")\n",
    "\n",
    "if a == 0 :\n",
    "    a = int(input(\"X ra Dobare Vared Konid( !0 ) : \"))\n",
    "else:\n",
    "    roots = moadele(a, b, c)\n",
    "\n",
    "\n",
    "print(f\"Rishe ha : {roots}\")\n",
    "\n",
    "# For Test : A = 1 , b = "
   ]
  },
  {
   "cell_type": "code",
   "execution_count": null,
   "id": "cc53ee3f-d44a-459f-8f3e-8306e2049b47",
   "metadata": {},
   "outputs": [],
   "source": []
  },
  {
   "cell_type": "code",
   "execution_count": null,
   "id": "217b7de9-00f9-45e9-af02-834373851029",
   "metadata": {},
   "outputs": [],
   "source": []
  },
  {
   "cell_type": "code",
   "execution_count": null,
   "id": "d5440737-c29a-432b-8ca9-86cae97afa68",
   "metadata": {},
   "outputs": [],
   "source": []
  }
 ],
 "metadata": {
  "kernelspec": {
   "display_name": "Python 3 (ipykernel)",
   "language": "python",
   "name": "python3"
  },
  "language_info": {
   "codemirror_mode": {
    "name": "ipython",
    "version": 3
   },
   "file_extension": ".py",
   "mimetype": "text/x-python",
   "name": "python",
   "nbconvert_exporter": "python",
   "pygments_lexer": "ipython3",
   "version": "3.12.2"
  }
 },
 "nbformat": 4,
 "nbformat_minor": 5
}
