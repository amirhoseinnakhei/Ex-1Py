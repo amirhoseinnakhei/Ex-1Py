{
 "cells": [
  {
   "cell_type": "code",
   "execution_count": 1,
   "id": "a8702dc2-b2cf-49c5-94b7-bf643b875a51",
   "metadata": {},
   "outputs": [],
   "source": [
    "# AmirHosein Nakhei project 5"
   ]
  },
  {
   "cell_type": "code",
   "execution_count": 2,
   "id": "4dce6e71-00d3-4b69-b92c-3ee536526548",
   "metadata": {},
   "outputs": [],
   "source": [
    "# Ex1 :"
   ]
  },
  {
   "cell_type": "code",
   "execution_count": 3,
   "id": "15cff032-2799-401c-8d04-e7ab93166efd",
   "metadata": {},
   "outputs": [
    {
     "name": "stdout",
     "output_type": "stream",
     "text": [
      "1.0\n"
     ]
    }
   ],
   "source": [
    "import math\n",
    "\n",
    "def tabe (a):\n",
    "    \n",
    "\n",
    "    if (a<0):\n",
    "\n",
    "        print(1/(math.exp(-a)+1))\n",
    "\n",
    "    elif (a>1):\n",
    "        print(1/(1+(math.exp(-a))))\n",
    "\n",
    "    else:\n",
    "        return True\n",
    "\n",
    "tabe (100)"
   ]
  },
  {
   "cell_type": "code",
   "execution_count": 4,
   "id": "7edf9730-28f2-43d5-90a4-97c060cd3037",
   "metadata": {},
   "outputs": [],
   "source": [
    "# output is : 1.0"
   ]
  },
  {
   "cell_type": "code",
   "execution_count": null,
   "id": "da3bcff5-ae95-4416-8d96-83b5639d00ee",
   "metadata": {},
   "outputs": [],
   "source": []
  },
  {
   "cell_type": "code",
   "execution_count": 5,
   "id": "934d87b5-a5b6-4c4b-9809-ef377e7f8417",
   "metadata": {},
   "outputs": [],
   "source": [
    "# Ex2 :"
   ]
  },
  {
   "cell_type": "code",
   "execution_count": 6,
   "id": "34218d68-001e-425b-8d01-b62bca84db8e",
   "metadata": {},
   "outputs": [
    {
     "name": "stdout",
     "output_type": "stream",
     "text": [
      "10.392304845413264\n"
     ]
    }
   ],
   "source": [
    "import math as m\n",
    "def tabe (a,b):\n",
    "    \n",
    "    if (a>b):\n",
    "        print(m.sqrt((a**2)-(b**2)))\n",
    "\n",
    "    elif (a<b):\n",
    "        print(m.sqrt((b**2)-(a**2)))\n",
    "\n",
    "    else :\n",
    "        print(a - b)\n",
    "\n",
    "tabe (6,12)"
   ]
  },
  {
   "cell_type": "code",
   "execution_count": 7,
   "id": "06a7b5be-5c31-4981-956e-3c329ca67782",
   "metadata": {},
   "outputs": [],
   "source": [
    "# output is : 10.39"
   ]
  },
  {
   "cell_type": "code",
   "execution_count": null,
   "id": "a3aac166-33f8-44c7-94fb-14ab23cd159f",
   "metadata": {},
   "outputs": [],
   "source": []
  },
  {
   "cell_type": "code",
   "execution_count": 8,
   "id": "5eb764a6-51e2-4f30-bb7e-8bb4d408ffb0",
   "metadata": {},
   "outputs": [],
   "source": [
    "# Ex3 :"
   ]
  },
  {
   "cell_type": "code",
   "execution_count": 9,
   "id": "d7cd4721-767d-421c-bbd5-96ad03214dc1",
   "metadata": {},
   "outputs": [
    {
     "name": "stdout",
     "output_type": "stream",
     "text": [
      "manfi\n"
     ]
    }
   ],
   "source": [
    "def tabe (a):\n",
    "\n",
    "    if (a>0):\n",
    "        print (\"mosbat\")\n",
    "\n",
    "    elif (a<0):\n",
    "        print (\"manfi\")\n",
    "\n",
    "    else:\n",
    "        print(\"ZERO\")\n",
    "\n",
    "tabe (-8)"
   ]
  },
  {
   "cell_type": "code",
   "execution_count": 10,
   "id": "07d4dd6e-7900-436a-8802-f66c5b4aad28",
   "metadata": {},
   "outputs": [],
   "source": [
    "# output is : manfi"
   ]
  },
  {
   "cell_type": "code",
   "execution_count": null,
   "id": "8414ce90-86fd-4d19-8991-628e1b3817c4",
   "metadata": {},
   "outputs": [],
   "source": []
  },
  {
   "cell_type": "code",
   "execution_count": 11,
   "id": "996e332c-d9af-4a6f-9424-ab40966ad91b",
   "metadata": {},
   "outputs": [],
   "source": [
    "# Ex4 :"
   ]
  },
  {
   "cell_type": "code",
   "execution_count": 12,
   "id": "d027e5ce-830c-48bb-b1da-20b313071c60",
   "metadata": {},
   "outputs": [
    {
     "data": {
      "text/plain": [
       "60.96"
      ]
     },
     "execution_count": 12,
     "metadata": {},
     "output_type": "execute_result"
    }
   ],
   "source": [
    "# Convert feet to cm\n",
    "\n",
    "def feet (d):\n",
    "    return d*30.48\n",
    "\n",
    "feet (2)"
   ]
  },
  {
   "cell_type": "code",
   "execution_count": 13,
   "id": "7128719e-8c35-4dda-992e-0bd391a58a4f",
   "metadata": {},
   "outputs": [],
   "source": [
    "# output is : 60.96"
   ]
  },
  {
   "cell_type": "code",
   "execution_count": null,
   "id": "d6b44730-dab7-4423-9e67-e385b592e762",
   "metadata": {},
   "outputs": [],
   "source": []
  },
  {
   "cell_type": "code",
   "execution_count": 14,
   "id": "4c1a31fc-a23f-44da-b4a4-cab27a15a186",
   "metadata": {},
   "outputs": [],
   "source": [
    "# Ex5 :"
   ]
  },
  {
   "cell_type": "code",
   "execution_count": 15,
   "id": "ca2f0c74-5b5e-4739-b8e8-846ab8e61169",
   "metadata": {},
   "outputs": [
    {
     "data": {
      "text/plain": [
       "-3.888888888888889"
      ]
     },
     "execution_count": 15,
     "metadata": {},
     "output_type": "execute_result"
    }
   ],
   "source": [
    "# Convert farenheit to celsius\n",
    "\n",
    "def f (d):\n",
    "    return (d-32)/1.8\n",
    "\n",
    "f (25)"
   ]
  },
  {
   "cell_type": "code",
   "execution_count": 16,
   "id": "c734b1eb-a6e1-4f33-a094-3b8738d311d7",
   "metadata": {},
   "outputs": [],
   "source": [
    "# output is : -3.888"
   ]
  },
  {
   "cell_type": "code",
   "execution_count": null,
   "id": "06ca8c67-cef1-4ed8-8bf2-3a67940dcc17",
   "metadata": {},
   "outputs": [],
   "source": []
  },
  {
   "cell_type": "code",
   "execution_count": 19,
   "id": "8d414529-51ef-4ca2-894e-1c09a11c433b",
   "metadata": {},
   "outputs": [],
   "source": [
    "# Ex6 :"
   ]
  },
  {
   "cell_type": "code",
   "execution_count": 17,
   "id": "f87b16df-b20c-47bd-9213-1be0dac7bead",
   "metadata": {},
   "outputs": [
    {
     "data": {
      "text/plain": [
       "5443.2"
      ]
     },
     "execution_count": 17,
     "metadata": {},
     "output_type": "execute_result"
    }
   ],
   "source": [
    "# Convert pound to gram\n",
    "def p (d):\n",
    "    return (d*0.4536)*1000\n",
    "\n",
    "p (12)"
   ]
  },
  {
   "cell_type": "code",
   "execution_count": 18,
   "id": "f3f2dd18-4aa7-427b-9493-9dd974bd1115",
   "metadata": {},
   "outputs": [],
   "source": [
    "# output is : 5443.2"
   ]
  },
  {
   "cell_type": "code",
   "execution_count": null,
   "id": "9707f6df-f757-4bc8-8cd4-c05e88fdb421",
   "metadata": {},
   "outputs": [],
   "source": []
  },
  {
   "cell_type": "code",
   "execution_count": 20,
   "id": "e713465c-fa28-4922-8dd3-bbde58c56e57",
   "metadata": {},
   "outputs": [],
   "source": [
    "# Ex7 :"
   ]
  },
  {
   "cell_type": "code",
   "execution_count": 21,
   "id": "66a07c2f-a761-487d-992f-f5594f727ad5",
   "metadata": {},
   "outputs": [
    {
     "data": {
      "text/plain": [
       "87"
      ]
     },
     "execution_count": 21,
     "metadata": {},
     "output_type": "execute_result"
    }
   ],
   "source": [
    "# Convert negative number to positive\n",
    "\n",
    "def p (a):\n",
    "\n",
    "    if(a<0):\n",
    "        return a*-1\n",
    "\n",
    "    else:\n",
    "        return a\n",
    "\n",
    "p(-87)"
   ]
  },
  {
   "cell_type": "code",
   "execution_count": 22,
   "id": "03a251d3-da58-4476-b674-ea7ff2497f90",
   "metadata": {},
   "outputs": [],
   "source": [
    "# output : 87"
   ]
  },
  {
   "cell_type": "code",
   "execution_count": null,
   "id": "a8b13c39-3a5f-43d4-bc27-b12f89e2d3e3",
   "metadata": {},
   "outputs": [],
   "source": []
  },
  {
   "cell_type": "code",
   "execution_count": null,
   "id": "19cb7ea4-7dd3-4225-b0d1-ffafe2d88392",
   "metadata": {},
   "outputs": [],
   "source": []
  }
 ],
 "metadata": {
  "kernelspec": {
   "display_name": "Python 3 (ipykernel)",
   "language": "python",
   "name": "python3"
  },
  "language_info": {
   "codemirror_mode": {
    "name": "ipython",
    "version": 3
   },
   "file_extension": ".py",
   "mimetype": "text/x-python",
   "name": "python",
   "nbconvert_exporter": "python",
   "pygments_lexer": "ipython3",
   "version": "3.12.2"
  }
 },
 "nbformat": 4,
 "nbformat_minor": 5
}
