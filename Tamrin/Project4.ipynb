{
 "cells": [
  {
   "cell_type": "code",
   "execution_count": 1,
   "id": "dc5be3b8-f832-47b0-a995-0839d59fbef6",
   "metadata": {},
   "outputs": [],
   "source": [
    "# AmirHosseinNakhei Mabahes "
   ]
  },
  {
   "cell_type": "code",
   "execution_count": 8,
   "id": "df275121-c360-4e33-a81c-a4a09c23cea7",
   "metadata": {},
   "outputs": [],
   "source": [
    "# Ex1:"
   ]
  },
  {
   "cell_type": "code",
   "execution_count": 3,
   "id": "f00a095f-67b7-4715-a6f0-6a7883f37141",
   "metadata": {},
   "outputs": [
    {
     "data": {
      "text/plain": [
       "27.755102040816325"
      ]
     },
     "execution_count": 3,
     "metadata": {},
     "output_type": "execute_result"
    }
   ],
   "source": [
    "def BMI (vazn,ghad):\n",
    "    return (vazn/(ghad**2))\n",
    "\n",
    "BMI(85,1.75)"
   ]
  },
  {
   "cell_type": "code",
   "execution_count": 4,
   "id": "50397702-3a5a-41e2-8def-5f4382b7ea47",
   "metadata": {},
   "outputs": [],
   "source": [
    "#output : 27.75"
   ]
  },
  {
   "cell_type": "code",
   "execution_count": null,
   "id": "a0420b24-80c4-44d0-a9ea-1fbe657eba85",
   "metadata": {},
   "outputs": [],
   "source": []
  },
  {
   "cell_type": "code",
   "execution_count": 5,
   "id": "870c6f4f-b3e5-4e34-9aec-67d8b275de93",
   "metadata": {},
   "outputs": [],
   "source": [
    "# Ex2:"
   ]
  },
  {
   "cell_type": "code",
   "execution_count": 6,
   "id": "53ede86a-84fa-4b82-a797-841bc748e566",
   "metadata": {},
   "outputs": [
    {
     "name": "stdin",
     "output_type": "stream",
     "text": [
      "Enter num1 :  16\n",
      "Enter num2 :  8\n"
     ]
    },
    {
     "name": "stdout",
     "output_type": "stream",
     "text": [
      "tan A,B : 0.3006322420239034,-6.799711455220379 / exp A,B : 8886110.520507872,2980.9579870417283 / radical A,B : 4.0,2.8284271247461903 / log A,B : 2.772588722239781,2.0794415416798357 / sin A,B : -0.2879033166650653,0.9893582466233818 / cos A,B : -0.9576594803233847,-0.14550003380861354 /\n",
      "tavan 4294967296 , zarb 128 , taghsim 2.0 , jam 24 , tafrigh 8\n"
     ]
    }
   ],
   "source": [
    "import math as m\n",
    "def mashin(A,B):\n",
    "    tA,tB,eA,eB,rA,rB,lA,lB,sA,sB,cA,cB = m.tan(A),m.tan(B),m.exp(A),m.exp(B),m.sqrt(A),m.sqrt(B),m.log(A),m.log(B),m.sin(A),m.sin(B),m.cos(A),m.cos(B)\n",
    "    c,d,e,f,g = A**B,A*B,A/B,A+B,A-B\n",
    "\n",
    "    print(f\"tan A,B : {tA},{tB} / exp A,B : {eA},{eB} / radical A,B : {rA},{rB} / log A,B : {lA},{lB} / sin A,B : {sA},{sB} / cos A,B : {cA},{cB} /\")\n",
    "    print(f\"tavan {c} , zarb {d} , taghsim {e} , jam {f} , tafrigh {g}\")\n",
    "\n",
    "A = int(input(\"Enter num1 : \"))\n",
    "B = int(input(\"Enter num2 : \"))\n",
    "\n",
    "mashin(A,B)"
   ]
  },
  {
   "cell_type": "code",
   "execution_count": 7,
   "id": "dbe26b2d-d4d0-4721-880d-111116aef66a",
   "metadata": {},
   "outputs": [],
   "source": [
    "# output A=16 , B=8\n",
    "#tan A,B : 0.3006322420239034,-6.799711455220379 / exp A,B : 8886110.520507872,2980.9579870417283 / radical A,B : 4.0,2.8284271247461903 / log A,B : 2.772588722239781,2.0794415416798357 / sin A,B : -0.2879033166650653,0.9893582466233818 / cos A,B : -0.9576594803233847,-0.14550003380861354 /\n",
    "#tavan 4294967296 , zarb 128 , taghsim 2.0 , jam 24 , tafrigh 8"
   ]
  },
  {
   "cell_type": "code",
   "execution_count": null,
   "id": "90094a8a-22d3-4415-9ad4-6944614e5a8e",
   "metadata": {},
   "outputs": [],
   "source": []
  },
  {
   "cell_type": "code",
   "execution_count": 9,
   "id": "c4dd744d-808a-4c4e-961e-c45625a291e2",
   "metadata": {},
   "outputs": [],
   "source": [
    "# Ex3:"
   ]
  },
  {
   "cell_type": "code",
   "execution_count": 10,
   "id": "4ab32e8b-376d-4c29-871a-23e1dd38d921",
   "metadata": {},
   "outputs": [
    {
     "data": {
      "text/plain": [
       "195729609430.253"
      ]
     },
     "execution_count": 10,
     "metadata": {},
     "output_type": "execute_result"
    }
   ],
   "source": [
    "import math\n",
    "\n",
    "def tabe (x,y,z):\n",
    "    f = (math.sqrt((x-y)/z) + math.exp(x+y))\n",
    "    return f\n",
    "tabe (18,8,5)"
   ]
  },
  {
   "cell_type": "code",
   "execution_count": 11,
   "id": "edb51ee2-1aff-4f02-9d89-174957209bfa",
   "metadata": {},
   "outputs": [],
   "source": [
    "#output : 195729609430.253"
   ]
  },
  {
   "cell_type": "code",
   "execution_count": null,
   "id": "9852e54c-cc1c-46ab-bfa5-154412df0ed1",
   "metadata": {},
   "outputs": [],
   "source": []
  },
  {
   "cell_type": "code",
   "execution_count": 12,
   "id": "bbc35bcc-fa34-4b85-83d0-d6e36f6c73bd",
   "metadata": {},
   "outputs": [],
   "source": [
    "# Ex4:"
   ]
  },
  {
   "cell_type": "code",
   "execution_count": 14,
   "id": "a9fa9575-f8a2-4594-858d-de5e72ac50bc",
   "metadata": {},
   "outputs": [
    {
     "data": {
      "text/plain": [
       "-96"
      ]
     },
     "execution_count": 14,
     "metadata": {},
     "output_type": "execute_result"
    }
   ],
   "source": [
    "def tabe (x,r):\n",
    "    y = r*x*(1-x)\n",
    "    return y\n",
    "\n",
    "tabe (4,8)"
   ]
  },
  {
   "cell_type": "code",
   "execution_count": 15,
   "id": "6c05be4d-4a81-483b-822c-385a2e21fff3",
   "metadata": {},
   "outputs": [],
   "source": [
    "# output : -96"
   ]
  },
  {
   "cell_type": "code",
   "execution_count": null,
   "id": "4e2086bd-24eb-4303-9523-15706fd36fce",
   "metadata": {},
   "outputs": [],
   "source": []
  },
  {
   "cell_type": "code",
   "execution_count": 16,
   "id": "a0850ded-baea-4b32-8864-dc0a398acaa7",
   "metadata": {},
   "outputs": [],
   "source": [
    "# Ex5:"
   ]
  },
  {
   "cell_type": "code",
   "execution_count": 17,
   "id": "028b69ae-34f0-4516-8dae-508dcdfae538",
   "metadata": {},
   "outputs": [
    {
     "data": {
      "text/plain": [
       "2.0"
      ]
     },
     "execution_count": 17,
     "metadata": {},
     "output_type": "execute_result"
    }
   ],
   "source": [
    "def tabe (w1,w2,k):\n",
    "    y = w2 - ((w2-w1)/k) * k\n",
    "    return y\n",
    "tabe (2,5,3)"
   ]
  },
  {
   "cell_type": "code",
   "execution_count": 18,
   "id": "f2b1b658-a01b-414b-bcd0-54fe514fedef",
   "metadata": {},
   "outputs": [],
   "source": [
    "# output : 2.0"
   ]
  },
  {
   "cell_type": "code",
   "execution_count": null,
   "id": "60deec23-1bd1-48f7-ad0a-77733c7a7124",
   "metadata": {},
   "outputs": [],
   "source": []
  },
  {
   "cell_type": "code",
   "execution_count": 19,
   "id": "7e057203-b495-4db8-b45f-a79ea028b8b5",
   "metadata": {},
   "outputs": [],
   "source": [
    "# Ex6:"
   ]
  },
  {
   "cell_type": "code",
   "execution_count": 20,
   "id": "a06d31dc-367d-41cb-a69b-9bf9a3aa0c67",
   "metadata": {},
   "outputs": [
    {
     "data": {
      "text/plain": [
       "-2.8577223804673"
      ]
     },
     "execution_count": 20,
     "metadata": {},
     "output_type": "execute_result"
    }
   ],
   "source": [
    "import math as m\n",
    "\n",
    "def tabe (a,b,w1,w2):\n",
    "    y = (1 / (m.exp(a-b)+1)) * (w2 - w1)\n",
    "    return y\n",
    "\n",
    "tabe (2,5,7,4)"
   ]
  },
  {
   "cell_type": "code",
   "execution_count": 21,
   "id": "fba74870-b04a-4c48-a814-271002ab72cb",
   "metadata": {},
   "outputs": [],
   "source": [
    "# output : -2.857"
   ]
  },
  {
   "cell_type": "code",
   "execution_count": null,
   "id": "e3938dad-fa50-4b9c-87f8-a3d5e97b56fe",
   "metadata": {},
   "outputs": [],
   "source": []
  },
  {
   "cell_type": "code",
   "execution_count": 22,
   "id": "ac6b00b2-e286-49d0-b663-859622f67e0b",
   "metadata": {},
   "outputs": [],
   "source": [
    "# Ex7:"
   ]
  },
  {
   "cell_type": "code",
   "execution_count": 23,
   "id": "fce14950-f665-4800-a2f7-f60a20ac0baa",
   "metadata": {},
   "outputs": [
    {
     "data": {
      "text/plain": [
       "0.5"
      ]
     },
     "execution_count": 23,
     "metadata": {},
     "output_type": "execute_result"
    }
   ],
   "source": [
    "def tabe (f1,f2):\n",
    "    y = (f2-f1)/f2\n",
    "    return y\n",
    "\n",
    "tabe (8,16)"
   ]
  },
  {
   "cell_type": "code",
   "execution_count": 24,
   "id": "12ffba76-a151-41db-9266-db253ac796e5",
   "metadata": {},
   "outputs": [],
   "source": [
    "# output : 0.5"
   ]
  },
  {
   "cell_type": "code",
   "execution_count": null,
   "id": "742ded93-036e-45fe-ac83-00e07707c250",
   "metadata": {},
   "outputs": [],
   "source": []
  },
  {
   "cell_type": "code",
   "execution_count": null,
   "id": "7dbf3181-1d6f-418d-b478-ecaa51eb571c",
   "metadata": {},
   "outputs": [],
   "source": []
  }
 ],
 "metadata": {
  "kernelspec": {
   "display_name": "Python 3 (ipykernel)",
   "language": "python",
   "name": "python3"
  },
  "language_info": {
   "codemirror_mode": {
    "name": "ipython",
    "version": 3
   },
   "file_extension": ".py",
   "mimetype": "text/x-python",
   "name": "python",
   "nbconvert_exporter": "python",
   "pygments_lexer": "ipython3",
   "version": "3.12.2"
  }
 },
 "nbformat": 4,
 "nbformat_minor": 5
}
