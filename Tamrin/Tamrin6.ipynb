{
 "cells": [
  {
   "cell_type": "code",
   "execution_count": 1,
   "id": "c160e604-ebec-4248-b710-487166006f48",
   "metadata": {},
   "outputs": [],
   "source": [
    "# AmirHossein Nakhei Mabahes"
   ]
  },
  {
   "cell_type": "code",
   "execution_count": 2,
   "id": "ba7cb451-f6dc-4268-b3c2-4b6384fc7af7",
   "metadata": {},
   "outputs": [],
   "source": [
    "# Ex 1 :"
   ]
  },
  {
   "cell_type": "code",
   "execution_count": 3,
   "id": "cbaaf346-31ca-4727-9926-8a4e83697d9a",
   "metadata": {},
   "outputs": [
    {
     "data": {
      "text/plain": [
       "21.085536923187668"
      ]
     },
     "execution_count": 3,
     "metadata": {},
     "output_type": "execute_result"
    }
   ],
   "source": [
    "import math\n",
    "\n",
    "def tabeh (x):\n",
    "    y = (math.exp(x)) + 1\n",
    "    return y\n",
    "\n",
    "tabeh (3)"
   ]
  },
  {
   "cell_type": "code",
   "execution_count": 4,
   "id": "4668de05-c733-48ad-8e30-bcc0a7bf35d7",
   "metadata": {},
   "outputs": [],
   "source": [
    "# output : 21.085536923187668"
   ]
  },
  {
   "cell_type": "code",
   "execution_count": null,
   "id": "ea09b3cc-f0a4-4c68-965f-919c0b61f387",
   "metadata": {},
   "outputs": [],
   "source": []
  },
  {
   "cell_type": "code",
   "execution_count": 5,
   "id": "7030b7a9-4ece-4e84-8d58-535e9d5d3689",
   "metadata": {},
   "outputs": [],
   "source": [
    "# Ex 2 :"
   ]
  },
  {
   "cell_type": "code",
   "execution_count": 6,
   "id": "31ea3ded-90ee-486e-a810-de15f24d23dd",
   "metadata": {},
   "outputs": [
    {
     "name": "stdout",
     "output_type": "stream",
     "text": [
      "Tavan is : 256 , Zarb is : 32 , Taghsim is : 8.0 , Jam is 18 , Tafrigh is : 14\n"
     ]
    }
   ],
   "source": [
    "def mashin (a,b):\n",
    "    c , d , e , f , g = a**b , a*b , a/b , a+b , a-b\n",
    "    print(f\"Tavan is : {c} , Zarb is : {d} , Taghsim is : {e} , Jam is {f} , Tafrigh is : {g}\")\n",
    "\n",
    "mashin (16 , 2)"
   ]
  },
  {
   "cell_type": "code",
   "execution_count": 7,
   "id": "7711453b-a24e-4316-ba05-c82bcfb514fb",
   "metadata": {},
   "outputs": [],
   "source": [
    "# output is : Tavan is : 256 , Zarb is : 32 , Taghsim is : 8.0 , Jam is 18 , Tafrigh is : 14"
   ]
  },
  {
   "cell_type": "code",
   "execution_count": null,
   "id": "7f8b9011-4df3-4c75-ae6f-3ab01ca36cde",
   "metadata": {},
   "outputs": [],
   "source": []
  },
  {
   "cell_type": "code",
   "execution_count": 8,
   "id": "3b36d7a3-0561-4764-b683-6ca3702125ef",
   "metadata": {},
   "outputs": [],
   "source": [
    "# Ex 3 :"
   ]
  },
  {
   "cell_type": "code",
   "execution_count": 9,
   "id": "7eb3917d-dabd-49c2-9aef-b5555819b6e8",
   "metadata": {},
   "outputs": [
    {
     "data": {
      "text/plain": [
       "True"
      ]
     },
     "execution_count": 9,
     "metadata": {},
     "output_type": "execute_result"
    }
   ],
   "source": [
    "\"a\"<\"b\""
   ]
  },
  {
   "cell_type": "code",
   "execution_count": 10,
   "id": "6f5dee96-09d7-4c72-987e-02949dbc425e",
   "metadata": {},
   "outputs": [
    {
     "data": {
      "text/plain": [
       "False"
      ]
     },
     "execution_count": 10,
     "metadata": {},
     "output_type": "execute_result"
    }
   ],
   "source": [
    "\",\">=\"b\""
   ]
  },
  {
   "cell_type": "code",
   "execution_count": 11,
   "id": "10ea03e9-da5c-4e35-be62-8793d417bf8e",
   "metadata": {},
   "outputs": [
    {
     "data": {
      "text/plain": [
       "False"
      ]
     },
     "execution_count": 11,
     "metadata": {},
     "output_type": "execute_result"
    }
   ],
   "source": [
    "\"x\"<\"a\""
   ]
  },
  {
   "cell_type": "code",
   "execution_count": 12,
   "id": "79c9ff75-8b02-4eab-af97-51ec7931bcde",
   "metadata": {},
   "outputs": [],
   "source": [
    "# output T , F , F"
   ]
  },
  {
   "cell_type": "code",
   "execution_count": null,
   "id": "d8ec3cdd-95ef-4d5b-b623-484ccf18d8fe",
   "metadata": {},
   "outputs": [],
   "source": []
  },
  {
   "cell_type": "code",
   "execution_count": 13,
   "id": "97e8634d-9232-4535-a7ac-b1b4b85bc44e",
   "metadata": {},
   "outputs": [],
   "source": [
    "# Ex 4 :"
   ]
  },
  {
   "cell_type": "code",
   "execution_count": 14,
   "id": "e83253ab-8812-4b7b-ad13-10957703d473",
   "metadata": {},
   "outputs": [
    {
     "data": {
      "text/plain": [
       "10.0"
      ]
     },
     "execution_count": 14,
     "metadata": {},
     "output_type": "execute_result"
    }
   ],
   "source": [
    "def tabe (a,b):\n",
    "    y = (a+b) / 2\n",
    "    return y\n",
    "\n",
    "tabe (8,12)"
   ]
  },
  {
   "cell_type": "code",
   "execution_count": 15,
   "id": "971d652f-b51c-4f78-913d-6e84328bbe8a",
   "metadata": {},
   "outputs": [],
   "source": [
    "#output : 10.0"
   ]
  },
  {
   "cell_type": "code",
   "execution_count": null,
   "id": "9716d6b9-72d2-4235-b548-bfb99db3094e",
   "metadata": {},
   "outputs": [],
   "source": []
  }
 ],
 "metadata": {
  "kernelspec": {
   "display_name": "Python 3 (ipykernel)",
   "language": "python",
   "name": "python3"
  },
  "language_info": {
   "codemirror_mode": {
    "name": "ipython",
    "version": 3
   },
   "file_extension": ".py",
   "mimetype": "text/x-python",
   "name": "python",
   "nbconvert_exporter": "python",
   "pygments_lexer": "ipython3",
   "version": "3.12.2"
  }
 },
 "nbformat": 4,
 "nbformat_minor": 5
}
