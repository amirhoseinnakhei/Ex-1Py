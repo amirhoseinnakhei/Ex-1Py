{
 "cells": [
  {
   "cell_type": "code",
   "execution_count": 2,
   "id": "ba837bca-4e8b-47c7-86da-1754b6443795",
   "metadata": {},
   "outputs": [
    {
     "name": "stdout",
     "output_type": "stream",
     "text": [
      "<-- ax^2 + bx + c = 0 -->\n"
     ]
    },
    {
     "name": "stdin",
     "output_type": "stream",
     "text": [
      " A ra vared konid :  1\n",
      " B ra vared konid :  3\n",
      " C ra vared konid :  -2\n"
     ]
    },
    {
     "name": "stdout",
     "output_type": "stream",
     "text": [
      "\n",
      "Rishe ha : (0.5615528128088303, -3.5615528128088303)\n"
     ]
    }
   ],
   "source": [
    "import math\n",
    "def moadele(a, b, c):\n",
    "  \n",
    "    delta = b**2 - 4*a*c\n",
    "    \n",
    "    if delta > 0:\n",
    "        # دو ریشه حقیقی\n",
    "        r1 = (-b + (math.sqrt(delta))) / (2*a)\n",
    "        r2 = (-b - (math.sqrt(delta))) / (2*a)\n",
    "        return r1 , r2\n",
    "        \n",
    "    elif delta == 0:\n",
    "        # یک ریشه مضاعف\n",
    "        root = -b / (2*a)\n",
    "        return root , root\n",
    "        \n",
    "    else:\n",
    "        print(\"Rishe Mozaaf Nadarad\")\n",
    "\n",
    "print(\"<-- ax^2 + bx + c = 0 -->\")\n",
    "\n",
    "a = int(input(\" A ra vared konid : \"))\n",
    "b = int(input(\" B ra vared konid : \"))\n",
    "c = int(input(\" C ra vared konid : \"))\n",
    "print(\"\")\n",
    "\n",
    "if a == 0 :\n",
    "    a = int(input(\"A ra Dobare Vared Konid( !0 ) : \"))\n",
    "else:\n",
    "    roots = moadele(a, b, c)\n",
    "\n",
    "\n",
    "print(f\"Rishe ha : {roots}\")\n",
    "\n",
    "# For Test \n",
    "# A = 1,B = 3,C = -2"
   ]
  },
  {
   "cell_type": "code",
   "execution_count": null,
   "id": "c8cba16e-3097-495b-b4ff-f0477284fdab",
   "metadata": {},
   "outputs": [],
   "source": []
  }
 ],
 "metadata": {
  "kernelspec": {
   "display_name": "Python 3 (ipykernel)",
   "language": "python",
   "name": "python3"
  },
  "language_info": {
   "codemirror_mode": {
    "name": "ipython",
    "version": 3
   },
   "file_extension": ".py",
   "mimetype": "text/x-python",
   "name": "python",
   "nbconvert_exporter": "python",
   "pygments_lexer": "ipython3",
   "version": "3.12.2"
  }
 },
 "nbformat": 4,
 "nbformat_minor": 5
}
