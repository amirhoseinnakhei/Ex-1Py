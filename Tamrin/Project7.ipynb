{
 "cells": [
  {
   "cell_type": "code",
   "execution_count": 1,
   "id": "8d5e50bb-b068-44b6-b3e4-6ca033fe64f9",
   "metadata": {},
   "outputs": [],
   "source": [
    "# Project7 AmirHosein Nakhei"
   ]
  },
  {
   "cell_type": "code",
   "execution_count": 2,
   "id": "f7d147c2-c213-43a3-a932-78fe902cbf67",
   "metadata": {},
   "outputs": [
    {
     "name": "stdout",
     "output_type": "stream",
     "text": [
      "1\n",
      "2\n",
      "6\n"
     ]
    }
   ],
   "source": [
    "# Ex1 : Factorial(1-3) in forloop\n",
    "\n",
    "fact = 1\n",
    "for i in range(1,4):\n",
    "    fact = fact * i\n",
    "    print(fact)"
   ]
  },
  {
   "cell_type": "code",
   "execution_count": 4,
   "id": "54a4a6c7-1b04-4296-be24-b3035ed01b77",
   "metadata": {},
   "outputs": [
    {
     "name": "stdout",
     "output_type": "stream",
     "text": [
      "palindrome\n"
     ]
    }
   ],
   "source": [
    "# Ex2 : Palindrome detection by string traversal\n",
    "\n",
    "a = \"fof\"\n",
    "if(a[::] == a[::-1]):\n",
    "    print(\"palindrome\")\n",
    "else:\n",
    "    print(\"no palindrome\")"
   ]
  },
  {
   "cell_type": "code",
   "execution_count": 5,
   "id": "3eb55be9-fcf3-460b-89ca-ff4c455ecb84",
   "metadata": {},
   "outputs": [
    {
     "name": "stdin",
     "output_type": "stream",
     "text": [
      "Enter Num :  8\n"
     ]
    },
    {
     "name": "stdout",
     "output_type": "stream",
     "text": [
      "7\n",
      "6\n",
      "5\n",
      "4\n",
      "3\n",
      "2\n",
      "1\n",
      "0\n"
     ]
    }
   ],
   "source": [
    "# Ex3 : Take a number from the user and use a while loop to count down to 0\n",
    "\n",
    "number = int(input(\"Enter Num : \"))\n",
    "while(number > 0):\n",
    "    number -= 1\n",
    "    print(number)"
   ]
  },
  {
   "cell_type": "code",
   "execution_count": null,
   "id": "2086ed5e-8f9e-4cb6-b56b-097f63f79ede",
   "metadata": {},
   "outputs": [],
   "source": []
  },
  {
   "cell_type": "code",
   "execution_count": null,
   "id": "c50bafa0-c933-4167-b4ea-2397e0be05b5",
   "metadata": {},
   "outputs": [],
   "source": []
  }
 ],
 "metadata": {
  "kernelspec": {
   "display_name": "Python 3 (ipykernel)",
   "language": "python",
   "name": "python3"
  },
  "language_info": {
   "codemirror_mode": {
    "name": "ipython",
    "version": 3
   },
   "file_extension": ".py",
   "mimetype": "text/x-python",
   "name": "python",
   "nbconvert_exporter": "python",
   "pygments_lexer": "ipython3",
   "version": "3.12.2"
  }
 },
 "nbformat": 4,
 "nbformat_minor": 5
}
