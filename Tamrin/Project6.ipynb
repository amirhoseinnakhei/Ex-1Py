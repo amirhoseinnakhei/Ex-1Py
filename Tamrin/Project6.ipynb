{
 "cells": [
  {
   "cell_type": "code",
   "execution_count": 1,
   "id": "88b82e71-719f-4c6b-8832-a81d94c7c484",
   "metadata": {},
   "outputs": [],
   "source": [
    "# AmirHosein Nakhei  Mabahes"
   ]
  },
  {
   "cell_type": "code",
   "execution_count": 2,
   "id": "e183154d-2ec4-4d4c-9c6f-930236e7966c",
   "metadata": {},
   "outputs": [],
   "source": [
    "# Ex1 : Factorial"
   ]
  },
  {
   "cell_type": "code",
   "execution_count": 3,
   "id": "28720259-de81-4d0b-8428-f092eff897b6",
   "metadata": {},
   "outputs": [
    {
     "data": {
      "text/plain": [
       "720"
      ]
     },
     "execution_count": 3,
     "metadata": {},
     "output_type": "execute_result"
    }
   ],
   "source": [
    "def factorial (x):\n",
    "   \n",
    "    if (x==0) :\n",
    "        return 1\n",
    "    else : \n",
    "        return x * (factorial (x-1) )\n",
    "\n",
    "factorial (6)"
   ]
  },
  {
   "cell_type": "code",
   "execution_count": 4,
   "id": "23fd9527-4c13-4a02-bbd6-022dec5cd83d",
   "metadata": {},
   "outputs": [],
   "source": [
    "# output fact(6) : 720"
   ]
  },
  {
   "cell_type": "code",
   "execution_count": null,
   "id": "8c1989fb-242e-4936-b7ee-8a5c114fe491",
   "metadata": {},
   "outputs": [],
   "source": []
  },
  {
   "cell_type": "code",
   "execution_count": 5,
   "id": "d08d887d-8c3e-4091-b7d6-845d653e8dfb",
   "metadata": {},
   "outputs": [],
   "source": [
    "# Ex2 : Fibonacci"
   ]
  },
  {
   "cell_type": "code",
   "execution_count": 6,
   "id": "0b5b79d1-428a-4698-9b5c-f6927ac1b156",
   "metadata": {},
   "outputs": [
    {
     "data": {
      "text/plain": [
       "8"
      ]
     },
     "execution_count": 6,
     "metadata": {},
     "output_type": "execute_result"
    }
   ],
   "source": [
    "def fibonacci (x):\n",
    "    if (x==1) :\n",
    "        return 1\n",
    "    elif (x==0) :\n",
    "        return 0\n",
    "    else :\n",
    "        return fibonacci (x - 1) + fibonacci (x - 2)\n",
    "\n",
    "fibonacci(6)"
   ]
  },
  {
   "cell_type": "code",
   "execution_count": 7,
   "id": "07a12684-94a8-406e-b3b8-38f3fdab5e92",
   "metadata": {},
   "outputs": [],
   "source": [
    "# output fib(6) : 8"
   ]
  },
  {
   "cell_type": "code",
   "execution_count": null,
   "id": "a991ddfe-c071-414e-9dc9-94f90e23760f",
   "metadata": {},
   "outputs": [],
   "source": []
  },
  {
   "cell_type": "code",
   "execution_count": 8,
   "id": "02a5bea3-646c-425a-b2cf-ac4c294e14ee",
   "metadata": {},
   "outputs": [],
   "source": [
    "# Ex3 : Count UP"
   ]
  },
  {
   "cell_type": "code",
   "execution_count": 10,
   "id": "07c42c96-eef9-4bbb-8553-f265721b1190",
   "metadata": {},
   "outputs": [
    {
     "name": "stdout",
     "output_type": "stream",
     "text": [
      "90\n",
      "91\n",
      "92\n",
      "93\n",
      "94\n",
      "95\n",
      "96\n",
      "97\n",
      "98\n",
      "99\n",
      "100\n",
      "end\n"
     ]
    }
   ],
   "source": [
    "def countUp (x) :\n",
    "    print (x)\n",
    "    if(x>=100) :\n",
    "        print (\"end\")\n",
    "\n",
    "    else:\n",
    "        return countUp (x + 1)\n",
    "\n",
    "countUp(90)"
   ]
  },
  {
   "cell_type": "code",
   "execution_count": 11,
   "id": "34c87b3a-ba44-48bf-8653-bee39ee69a64",
   "metadata": {},
   "outputs": [],
   "source": [
    "# output countUp(90) : Counting from 90 to 100"
   ]
  },
  {
   "cell_type": "code",
   "execution_count": null,
   "id": "a41796c0-713d-444b-b532-445512c1e115",
   "metadata": {},
   "outputs": [],
   "source": []
  },
  {
   "cell_type": "code",
   "execution_count": null,
   "id": "ae42301f-3829-4841-b2da-637ab5a6570d",
   "metadata": {},
   "outputs": [],
   "source": []
  }
 ],
 "metadata": {
  "kernelspec": {
   "display_name": "Python 3 (ipykernel)",
   "language": "python",
   "name": "python3"
  },
  "language_info": {
   "codemirror_mode": {
    "name": "ipython",
    "version": 3
   },
   "file_extension": ".py",
   "mimetype": "text/x-python",
   "name": "python",
   "nbconvert_exporter": "python",
   "pygments_lexer": "ipython3",
   "version": "3.12.2"
  }
 },
 "nbformat": 4,
 "nbformat_minor": 5
}
