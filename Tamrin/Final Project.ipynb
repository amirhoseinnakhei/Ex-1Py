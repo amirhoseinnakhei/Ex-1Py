{
 "cells": [
  {
   "cell_type": "code",
   "execution_count": 1,
   "id": "078b7417-1726-4356-b56f-15448ced2afa",
   "metadata": {},
   "outputs": [
    {
     "name": "stdout",
     "output_type": "stream",
     "text": [
      "ریشه‌های معادله عبارتند از:\n",
      "2.0\n",
      "1.0\n"
     ]
    }
   ],
   "source": [
    "def solve_quadratic(a, b, c):\n",
    "    if a == 0:\n",
    "        raise ValueError(\"ضریب x^2 نمی‌تواند صفر باشد (این یک معادله درجه 2 نیست).\")\n",
    "    \n",
    "    # محاسبه دلتا\n",
    "    delta = b**2 - 4*a*c\n",
    "    \n",
    "    if delta > 0:\n",
    "        # دو ریشه حقیقی\n",
    "        root1 = (-b + (delta**0.5)) / (2*a)\n",
    "        root2 = (-b - (delta**0.5)) / (2*a)\n",
    "        return root1, root2\n",
    "    elif delta == 0:\n",
    "        # یک ریشه مضاعف\n",
    "        root = -b / (2*a)\n",
    "        return root, root\n",
    "    else:\n",
    "        # دو ریشه مختلط\n",
    "        real_part = -b / (2*a)\n",
    "        imaginary_part = ((-delta)**0.5) / (2*a)\n",
    "        root1 = complex(real_part, imaginary_part)\n",
    "        root2 = complex(real_part, -imaginary_part)\n",
    "        return root1, root2\n",
    "\n",
    "# ضرایب معادله: ax^2 + bx + c = 0\n",
    "a = 1\n",
    "b = -3\n",
    "c = 2\n",
    "\n",
    "# حل معادله\n",
    "roots = solve_quadratic(a, b, c)\n",
    "\n",
    "# نمایش ریشه‌ها\n",
    "print(\"ریشه‌های معادله عبارتند از:\")\n",
    "for i in roots:\n",
    "    print(i)\n"
   ]
  },
  {
   "cell_type": "code",
   "execution_count": null,
   "id": "cc53ee3f-d44a-459f-8f3e-8306e2049b47",
   "metadata": {},
   "outputs": [],
   "source": []
  }
 ],
 "metadata": {
  "kernelspec": {
   "display_name": "Python 3 (ipykernel)",
   "language": "python",
   "name": "python3"
  },
  "language_info": {
   "codemirror_mode": {
    "name": "ipython",
    "version": 3
   },
   "file_extension": ".py",
   "mimetype": "text/x-python",
   "name": "python",
   "nbconvert_exporter": "python",
   "pygments_lexer": "ipython3",
   "version": "3.12.2"
  }
 },
 "nbformat": 4,
 "nbformat_minor": 5
}
