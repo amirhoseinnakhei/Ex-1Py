{
 "cells": [
  {
   "cell_type": "code",
   "execution_count": 9,
   "id": "3d9fd94a-9bbc-4ea4-bc60-382b4c4b89a6",
   "metadata": {},
   "outputs": [],
   "source": [
    "# project2 AmirHoseinNakhei"
   ]
  },
  {
   "cell_type": "code",
   "execution_count": 1,
   "id": "b7b39e63-71da-47da-bcc8-bbdadff63106",
   "metadata": {},
   "outputs": [
    {
     "data": {
      "text/plain": [
       "'stv'"
      ]
     },
     "execution_count": 1,
     "metadata": {},
     "output_type": "execute_result"
    }
   ],
   "source": [
    "\"milad\" and \"stv\""
   ]
  },
  {
   "cell_type": "code",
   "execution_count": 2,
   "id": "f573c97b-291e-43ef-bb61-f98456044c2d",
   "metadata": {},
   "outputs": [],
   "source": [
    "# output 'stv'"
   ]
  },
  {
   "cell_type": "code",
   "execution_count": null,
   "id": "275e82f6-d6ac-47f9-8447-979778da7751",
   "metadata": {},
   "outputs": [],
   "source": []
  },
  {
   "cell_type": "code",
   "execution_count": 3,
   "id": "918e8f36-33f1-4119-b1f9-3c783a09e624",
   "metadata": {},
   "outputs": [
    {
     "data": {
      "text/plain": [
       "True"
      ]
     },
     "execution_count": 3,
     "metadata": {},
     "output_type": "execute_result"
    }
   ],
   "source": [
    "\"amin\">\"am\""
   ]
  },
  {
   "cell_type": "code",
   "execution_count": 4,
   "id": "8aa3e0fc-447b-46f0-beeb-dbf5c605d207",
   "metadata": {},
   "outputs": [],
   "source": [
    "# output True"
   ]
  },
  {
   "cell_type": "code",
   "execution_count": null,
   "id": "81470051-fcda-4c81-9056-f7ee44e58cb4",
   "metadata": {},
   "outputs": [],
   "source": []
  },
  {
   "cell_type": "code",
   "execution_count": 5,
   "id": "5f2e4240-c15b-49ec-901d-f5b330277908",
   "metadata": {},
   "outputs": [
    {
     "data": {
      "text/plain": [
       "False"
      ]
     },
     "execution_count": 5,
     "metadata": {},
     "output_type": "execute_result"
    }
   ],
   "source": [
    "\"javad\"<\"am\""
   ]
  },
  {
   "cell_type": "code",
   "execution_count": 6,
   "id": "458bd4d7-30f7-43fd-906b-dab85e97cc9f",
   "metadata": {},
   "outputs": [],
   "source": [
    "# output False"
   ]
  },
  {
   "cell_type": "code",
   "execution_count": null,
   "id": "77f54a12-524a-4ead-81a6-d95aeb3a207a",
   "metadata": {},
   "outputs": [],
   "source": []
  },
  {
   "cell_type": "code",
   "execution_count": 7,
   "id": "71849975-63ff-45d7-a6aa-bbb5f5720843",
   "metadata": {},
   "outputs": [
    {
     "data": {
      "text/plain": [
       "True"
      ]
     },
     "execution_count": 7,
     "metadata": {},
     "output_type": "execute_result"
    }
   ],
   "source": [
    "\"akbar\"<=\"sakineh\""
   ]
  },
  {
   "cell_type": "code",
   "execution_count": 8,
   "id": "8456ee96-7b2b-423e-87a1-8f81b3661e28",
   "metadata": {},
   "outputs": [],
   "source": [
    "# output True"
   ]
  },
  {
   "cell_type": "code",
   "execution_count": null,
   "id": "41ac3534-1989-4ee0-83ad-d51a02f5b1c7",
   "metadata": {},
   "outputs": [],
   "source": []
  }
 ],
 "metadata": {
  "kernelspec": {
   "display_name": "Python 3 (ipykernel)",
   "language": "python",
   "name": "python3"
  },
  "language_info": {
   "codemirror_mode": {
    "name": "ipython",
    "version": 3
   },
   "file_extension": ".py",
   "mimetype": "text/x-python",
   "name": "python",
   "nbconvert_exporter": "python",
   "pygments_lexer": "ipython3",
   "version": "3.12.2"
  }
 },
 "nbformat": 4,
 "nbformat_minor": 5
}
